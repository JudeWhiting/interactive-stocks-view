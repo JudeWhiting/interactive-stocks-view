{
 "cells": [
  {
   "metadata": {
    "ExecuteTime": {
     "end_time": "2025-03-18T04:01:09.779963Z",
     "start_time": "2025-03-18T04:01:09.234045Z"
    }
   },
   "cell_type": "code",
   "source": [
    "import matplotlib.pyplot as plt\n",
    "import numpy as np\n",
    "from ipywidgets import interact\n",
    "\n",
    "# Define a function that updates the plot based on slider value\n",
    "def update_plot(frequency):\n",
    "    # Create x data\n",
    "    x = np.linspace(0, 10, 100)\n",
    "    # Create y data based on the frequency\n",
    "    y = np.sin(frequency * x)\n",
    "\n",
    "    # Create or update the plot\n",
    "    plt.figure(figsize=(6, 4))\n",
    "    plt.plot(x, y, label=f\"Frequency: {frequency} Hz\")\n",
    "    plt.title('Sine Wave')\n",
    "    plt.xlabel('x')\n",
    "    plt.ylabel('sin(frequency * x)')\n",
    "    plt.legend()\n",
    "    plt.grid(True)\n",
    "    plt.show()\n",
    "\n",
    "# Use interact to create a slider and update the plot dynamically\n",
    "interact(update_plot, frequency=(1, 10, 0.1))\n"
   ],
   "id": "750b8665c3ca222b",
   "outputs": [
    {
     "data": {
      "text/plain": [
       "interactive(children=(FloatSlider(value=5.0, description='frequency', max=10.0, min=1.0), Output()), _dom_clas…"
      ],
      "application/vnd.jupyter.widget-view+json": {
       "version_major": 2,
       "version_minor": 0,
       "model_id": "52d5d5f0fb7e4eb2a7a59920b2dd4bd6"
      }
     },
     "metadata": {},
     "output_type": "display_data"
    },
    {
     "data": {
      "text/plain": [
       "<function __main__.update_plot(frequency)>"
      ]
     },
     "execution_count": 1,
     "metadata": {},
     "output_type": "execute_result"
    }
   ],
   "execution_count": 1
  },
  {
   "metadata": {},
   "cell_type": "code",
   "outputs": [],
   "execution_count": null,
   "source": "",
   "id": "bf1a0462fee1807f"
  }
 ],
 "metadata": {
  "kernelspec": {
   "display_name": "Python 3 (ipykernel)",
   "language": "python",
   "name": "python3"
  },
  "language_info": {
   "codemirror_mode": {
    "name": "ipython",
    "version": 2
   },
   "file_extension": ".py",
   "mimetype": "text/x-python",
   "name": "python",
   "nbconvert_exporter": "python",
   "pygments_lexer": "ipython2",
   "version": "2.7.6"
  }
 },
 "nbformat": 4,
 "nbformat_minor": 5
}
